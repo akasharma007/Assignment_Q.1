{
 "cells": [
  {
   "cell_type": "code",
   "execution_count": 3,
   "id": "de381ac9-94f9-42ae-b851-9e9554b78867",
   "metadata": {},
   "outputs": [],
   "source": [
    "import cv2\n",
    "import numpy as np\n",
    "from selenium import webdriver\n",
    "from selenium.webdriver.chrome.service import Service\n",
    "from selenium.webdriver.common.keys import Keys\n",
    "from webdriver_manager.chrome import ChromeDriverManager\n",
    "import time"
   ]
  },
  {
   "cell_type": "markdown",
   "id": "4e6b11ed-2fe0-4b5f-ba4f-09c5f403c012",
   "metadata": {},
   "source": [
    "Setting up Selenium WebDriver"
   ]
  },
  {
   "cell_type": "code",
   "execution_count": 5,
   "id": "86f61dba-8c06-480a-808c-a4f00b570b7b",
   "metadata": {},
   "outputs": [],
   "source": [
    "service = Service(ChromeDriverManager().install())\n",
    "driver = webdriver.Chrome(service=service)\n",
    "driver.get(\"ANY GAME URL\")\n",
    "# https://k4.games/play/neon-rider/    (this is just a example of URL, this program doesn't have the logic of game)"
   ]
  },
  {
   "cell_type": "markdown",
   "id": "dd68c93f-bf46-4df6-947b-f0e038bb7433",
   "metadata": {},
   "source": [
    "Prepareing the input image by converting it to grayscale."
   ]
  },
  {
   "cell_type": "markdown",
   "id": "87886cb2-e217-4310-ba55-10261a0eb52f",
   "metadata": {},
   "source": [
    "Applying edge detection to the preprocessed image to highlight the edges."
   ]
  },
  {
   "cell_type": "code",
   "execution_count": 6,
   "id": "1ee2cd3f-e55d-41c5-81ed-316efe033339",
   "metadata": {},
   "outputs": [],
   "source": [
    "def capture_screen():\n",
    "    screenshot = driver.get_screenshot_as_png()\n",
    "    image = np.frombuffer(screenshot, dtype='uint8')\n",
    "    image = cv2.imdecode(image, cv2.IMREAD_COLOR)\n",
    "    return image\n",
    "\n",
    "def preprocess_image(image):\n",
    "    gray = cv2.cvtColor(image, cv2.COLOR_BGR2GRAY)\n",
    "    resized = cv2.resize(gray, (84, 84))\n",
    "    normalized = resized / 255.0\n",
    "    normalized = (normalized * 255).astype(np.uint8)\n",
    "    return normalized\n",
    "# Resize the image of game so that i will be easy to make decision easy.\n",
    "def interpret_game_state(image):\n",
    "    edges = cv2.Canny(image, threshold1=100, threshold2=200)\n",
    "    return edges\n",
    "    "
   ]
  },
  {
   "cell_type": "markdown",
   "id": "e98db3af-7abf-4ff0-9f29-47f342e16c13",
   "metadata": {},
   "source": [
    "LOGIC FOR THE GAME. "
   ]
  },
  {
   "cell_type": "markdown",
   "id": "c855a718-fede-4c84-96a2-c4dfa51854a7",
   "metadata": {},
   "source": [
    "IT MAY BE ANY GAME AND IT'S LOGIC"
   ]
  },
  {
   "cell_type": "code",
   "execution_count": 7,
   "id": "9ac3078b-b373-48a7-9084-fee00f585a1e",
   "metadata": {},
   "outputs": [],
   "source": [
    "def make_decision(game_state):\n",
    "    if np.sum(game_state[:, :42]) > np.sum(game_state[:, 42:]):\n",
    "        return 'move_right'\n",
    "    else:\n",
    "        return 'move_left'\n",
    "\n",
    "def perform_action(action):\n",
    "    body = driver.find_element(By.TAG_NAME, 'body')\n",
    "    if action == 'move_right':\n",
    "        body.send_keys(Keys.ARROW_RIGHT)\n",
    "    elif action == 'move_left':\n",
    "        body.send_keys(Keys.ARROW_LEFT)"
   ]
  },
  {
   "cell_type": "markdown",
   "id": "e1b7f25b-0b78-4f6a-8b12-589b5ad36aca",
   "metadata": {},
   "source": [
    "MAIN LOOP"
   ]
  },
  {
   "cell_type": "code",
   "execution_count": 8,
   "id": "28dacfbd-0084-4f5e-ab43-364580c52056",
   "metadata": {},
   "outputs": [
    {
     "ename": "NoSuchWindowException",
     "evalue": "Message: no such window: target window already closed\nfrom unknown error: web view not found\n  (Session info: chrome=126.0.6478.183)\nStacktrace:\n\tGetHandleVerifier [0x00EEC203+27395]\n\t(No symbol) [0x00E83E04]\n\t(No symbol) [0x00D81B7F]\n\t(No symbol) [0x00D5E483]\n\t(No symbol) [0x00DEA06F]\n\t(No symbol) [0x00DFC3D6]\n\t(No symbol) [0x00DE3736]\n\t(No symbol) [0x00DB7541]\n\t(No symbol) [0x00DB80BD]\n\tGetHandleVerifier [0x011A3AB3+2876339]\n\tGetHandleVerifier [0x011F7F7D+3221629]\n\tGetHandleVerifier [0x00F6D674+556916]\n\tGetHandleVerifier [0x00F7478C+585868]\n\t(No symbol) [0x00E8CE44]\n\t(No symbol) [0x00E89858]\n\t(No symbol) [0x00E899F7]\n\t(No symbol) [0x00E7BF4E]\n\tBaseThreadInitThunk [0x768C7BA9+25]\n\tRtlInitializeExceptionChain [0x776CC10B+107]\n\tRtlClearBits [0x776CC08F+191]\n",
     "output_type": "error",
     "traceback": [
      "\u001b[1;31m---------------------------------------------------------------------------\u001b[0m",
      "\u001b[1;31mNoSuchWindowException\u001b[0m                     Traceback (most recent call last)",
      "Cell \u001b[1;32mIn[8], line 2\u001b[0m\n\u001b[0;32m      1\u001b[0m \u001b[38;5;28;01mwhile\u001b[39;00m \u001b[38;5;28;01mTrue\u001b[39;00m:\n\u001b[1;32m----> 2\u001b[0m     screen \u001b[38;5;241m=\u001b[39m capture_screen()\n\u001b[0;32m      3\u001b[0m     preprocessed_image \u001b[38;5;241m=\u001b[39m preprocess_image(screen)\n\u001b[0;32m      4\u001b[0m     game_state \u001b[38;5;241m=\u001b[39m interpret_game_state(preprocessed_image)\n",
      "Cell \u001b[1;32mIn[6], line 2\u001b[0m, in \u001b[0;36mcapture_screen\u001b[1;34m()\u001b[0m\n\u001b[0;32m      1\u001b[0m \u001b[38;5;28;01mdef\u001b[39;00m \u001b[38;5;21mcapture_screen\u001b[39m():\n\u001b[1;32m----> 2\u001b[0m     screenshot \u001b[38;5;241m=\u001b[39m driver\u001b[38;5;241m.\u001b[39mget_screenshot_as_png()\n\u001b[0;32m      3\u001b[0m     image \u001b[38;5;241m=\u001b[39m np\u001b[38;5;241m.\u001b[39mfrombuffer(screenshot, dtype\u001b[38;5;241m=\u001b[39m\u001b[38;5;124m'\u001b[39m\u001b[38;5;124muint8\u001b[39m\u001b[38;5;124m'\u001b[39m)\n\u001b[0;32m      4\u001b[0m     image \u001b[38;5;241m=\u001b[39m cv2\u001b[38;5;241m.\u001b[39mimdecode(image, cv2\u001b[38;5;241m.\u001b[39mIMREAD_COLOR)\n",
      "File \u001b[1;32m~\\AppData\\Roaming\\Python\\Python312\\site-packages\\selenium\\webdriver\\remote\\webdriver.py:839\u001b[0m, in \u001b[0;36mWebDriver.get_screenshot_as_png\u001b[1;34m(self)\u001b[0m\n\u001b[0;32m    831\u001b[0m \u001b[38;5;28;01mdef\u001b[39;00m \u001b[38;5;21mget_screenshot_as_png\u001b[39m(\u001b[38;5;28mself\u001b[39m) \u001b[38;5;241m-\u001b[39m\u001b[38;5;241m>\u001b[39m \u001b[38;5;28mbytes\u001b[39m:\n\u001b[0;32m    832\u001b[0m \u001b[38;5;250m    \u001b[39m\u001b[38;5;124;03m\"\"\"Gets the screenshot of the current window as a binary data.\u001b[39;00m\n\u001b[0;32m    833\u001b[0m \n\u001b[0;32m    834\u001b[0m \u001b[38;5;124;03m    :Usage:\u001b[39;00m\n\u001b[1;32m   (...)\u001b[0m\n\u001b[0;32m    837\u001b[0m \u001b[38;5;124;03m            driver.get_screenshot_as_png()\u001b[39;00m\n\u001b[0;32m    838\u001b[0m \u001b[38;5;124;03m    \"\"\"\u001b[39;00m\n\u001b[1;32m--> 839\u001b[0m     \u001b[38;5;28;01mreturn\u001b[39;00m b64decode(\u001b[38;5;28mself\u001b[39m\u001b[38;5;241m.\u001b[39mget_screenshot_as_base64()\u001b[38;5;241m.\u001b[39mencode(\u001b[38;5;124m\"\u001b[39m\u001b[38;5;124mascii\u001b[39m\u001b[38;5;124m\"\u001b[39m))\n",
      "File \u001b[1;32m~\\AppData\\Roaming\\Python\\Python312\\site-packages\\selenium\\webdriver\\remote\\webdriver.py:850\u001b[0m, in \u001b[0;36mWebDriver.get_screenshot_as_base64\u001b[1;34m(self)\u001b[0m\n\u001b[0;32m    841\u001b[0m \u001b[38;5;28;01mdef\u001b[39;00m \u001b[38;5;21mget_screenshot_as_base64\u001b[39m(\u001b[38;5;28mself\u001b[39m) \u001b[38;5;241m-\u001b[39m\u001b[38;5;241m>\u001b[39m \u001b[38;5;28mstr\u001b[39m:\n\u001b[0;32m    842\u001b[0m \u001b[38;5;250m    \u001b[39m\u001b[38;5;124;03m\"\"\"Gets the screenshot of the current window as a base64 encoded string\u001b[39;00m\n\u001b[0;32m    843\u001b[0m \u001b[38;5;124;03m    which is useful in embedded images in HTML.\u001b[39;00m\n\u001b[0;32m    844\u001b[0m \n\u001b[1;32m   (...)\u001b[0m\n\u001b[0;32m    848\u001b[0m \u001b[38;5;124;03m            driver.get_screenshot_as_base64()\u001b[39;00m\n\u001b[0;32m    849\u001b[0m \u001b[38;5;124;03m    \"\"\"\u001b[39;00m\n\u001b[1;32m--> 850\u001b[0m     \u001b[38;5;28;01mreturn\u001b[39;00m \u001b[38;5;28mself\u001b[39m\u001b[38;5;241m.\u001b[39mexecute(Command\u001b[38;5;241m.\u001b[39mSCREENSHOT)[\u001b[38;5;124m\"\u001b[39m\u001b[38;5;124mvalue\u001b[39m\u001b[38;5;124m\"\u001b[39m]\n",
      "File \u001b[1;32m~\\AppData\\Roaming\\Python\\Python312\\site-packages\\selenium\\webdriver\\remote\\webdriver.py:354\u001b[0m, in \u001b[0;36mWebDriver.execute\u001b[1;34m(self, driver_command, params)\u001b[0m\n\u001b[0;32m    352\u001b[0m response \u001b[38;5;241m=\u001b[39m \u001b[38;5;28mself\u001b[39m\u001b[38;5;241m.\u001b[39mcommand_executor\u001b[38;5;241m.\u001b[39mexecute(driver_command, params)\n\u001b[0;32m    353\u001b[0m \u001b[38;5;28;01mif\u001b[39;00m response:\n\u001b[1;32m--> 354\u001b[0m     \u001b[38;5;28mself\u001b[39m\u001b[38;5;241m.\u001b[39merror_handler\u001b[38;5;241m.\u001b[39mcheck_response(response)\n\u001b[0;32m    355\u001b[0m     response[\u001b[38;5;124m\"\u001b[39m\u001b[38;5;124mvalue\u001b[39m\u001b[38;5;124m\"\u001b[39m] \u001b[38;5;241m=\u001b[39m \u001b[38;5;28mself\u001b[39m\u001b[38;5;241m.\u001b[39m_unwrap_value(response\u001b[38;5;241m.\u001b[39mget(\u001b[38;5;124m\"\u001b[39m\u001b[38;5;124mvalue\u001b[39m\u001b[38;5;124m\"\u001b[39m, \u001b[38;5;28;01mNone\u001b[39;00m))\n\u001b[0;32m    356\u001b[0m     \u001b[38;5;28;01mreturn\u001b[39;00m response\n",
      "File \u001b[1;32m~\\AppData\\Roaming\\Python\\Python312\\site-packages\\selenium\\webdriver\\remote\\errorhandler.py:229\u001b[0m, in \u001b[0;36mErrorHandler.check_response\u001b[1;34m(self, response)\u001b[0m\n\u001b[0;32m    227\u001b[0m         alert_text \u001b[38;5;241m=\u001b[39m value[\u001b[38;5;124m\"\u001b[39m\u001b[38;5;124malert\u001b[39m\u001b[38;5;124m\"\u001b[39m]\u001b[38;5;241m.\u001b[39mget(\u001b[38;5;124m\"\u001b[39m\u001b[38;5;124mtext\u001b[39m\u001b[38;5;124m\"\u001b[39m)\n\u001b[0;32m    228\u001b[0m     \u001b[38;5;28;01mraise\u001b[39;00m exception_class(message, screen, stacktrace, alert_text)  \u001b[38;5;66;03m# type: ignore[call-arg]  # mypy is not smart enough here\u001b[39;00m\n\u001b[1;32m--> 229\u001b[0m \u001b[38;5;28;01mraise\u001b[39;00m exception_class(message, screen, stacktrace)\n",
      "\u001b[1;31mNoSuchWindowException\u001b[0m: Message: no such window: target window already closed\nfrom unknown error: web view not found\n  (Session info: chrome=126.0.6478.183)\nStacktrace:\n\tGetHandleVerifier [0x00EEC203+27395]\n\t(No symbol) [0x00E83E04]\n\t(No symbol) [0x00D81B7F]\n\t(No symbol) [0x00D5E483]\n\t(No symbol) [0x00DEA06F]\n\t(No symbol) [0x00DFC3D6]\n\t(No symbol) [0x00DE3736]\n\t(No symbol) [0x00DB7541]\n\t(No symbol) [0x00DB80BD]\n\tGetHandleVerifier [0x011A3AB3+2876339]\n\tGetHandleVerifier [0x011F7F7D+3221629]\n\tGetHandleVerifier [0x00F6D674+556916]\n\tGetHandleVerifier [0x00F7478C+585868]\n\t(No symbol) [0x00E8CE44]\n\t(No symbol) [0x00E89858]\n\t(No symbol) [0x00E899F7]\n\t(No symbol) [0x00E7BF4E]\n\tBaseThreadInitThunk [0x768C7BA9+25]\n\tRtlInitializeExceptionChain [0x776CC10B+107]\n\tRtlClearBits [0x776CC08F+191]\n"
     ]
    }
   ],
   "source": [
    "while True:\n",
    "    screen = capture_screen()\n",
    "    preprocessed_image = preprocess_image(screen)\n",
    "    game_state = interpret_game_state(preprocessed_image)\n",
    "    action = make_decision(game_state)\n",
    "    perform_action(action)\n",
    "    time.sleep(0.1)"
   ]
  },
  {
   "cell_type": "code",
   "execution_count": null,
   "id": "f8a81087-8e9e-476d-8ff5-8c2b01b174cb",
   "metadata": {},
   "outputs": [],
   "source": []
  },
  {
   "cell_type": "code",
   "execution_count": null,
   "id": "97f111ed-e1da-40de-8ad6-ee6727d7dc5e",
   "metadata": {},
   "outputs": [],
   "source": []
  }
 ],
 "metadata": {
  "kernelspec": {
   "display_name": "Python 3 (ipykernel)",
   "language": "python",
   "name": "python3"
  },
  "language_info": {
   "codemirror_mode": {
    "name": "ipython",
    "version": 3
   },
   "file_extension": ".py",
   "mimetype": "text/x-python",
   "name": "python",
   "nbconvert_exporter": "python",
   "pygments_lexer": "ipython3",
   "version": "3.12.4"
  }
 },
 "nbformat": 4,
 "nbformat_minor": 5
}
