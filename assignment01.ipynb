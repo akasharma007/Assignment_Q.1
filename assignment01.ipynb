{
 "cells": [
  {
   "cell_type": "code",
   "execution_count": 3,
   "id": "de381ac9-94f9-42ae-b851-9e9554b78867",
   "metadata": {},
   "outputs": [],
   "source": [
    "import cv2\n",
    "import numpy as np\n",
    "from selenium import webdriver\n",
    "from selenium.webdriver.chrome.service import Service\n",
    "from selenium.webdriver.common.keys import Keys\n",
    "from webdriver_manager.chrome import ChromeDriverManager\n",
    "import time"
   ]
  },
  {
   "cell_type": "markdown",
   "id": "4e6b11ed-2fe0-4b5f-ba4f-09c5f403c012",
   "metadata": {},
   "source": [
    "Setting up Selenium WebDriver"
   ]
  },
  {
   "cell_type": "code",
   "execution_count": 15,
   "id": "86f61dba-8c06-480a-808c-a4f00b570b7b",
   "metadata": {},
   "outputs": [],
   "source": [
    "service = Service(ChromeDriverManager().install())\n",
    "driver = webdriver.Chrome(service=service)\n",
    "driver.get(\"https://k4.games/play/neon-rider/\")\n",
    "# https://k4.games/play/neon-rider/    (this is just a example of URL, this program doesn't have the logic of game)"
   ]
  },
  {
   "cell_type": "markdown",
   "id": "dd68c93f-bf46-4df6-947b-f0e038bb7433",
   "metadata": {},
   "source": [
    "Prepareing the input image by converting it to grayscale."
   ]
  },
  {
   "cell_type": "markdown",
   "id": "87886cb2-e217-4310-ba55-10261a0eb52f",
   "metadata": {},
   "source": [
    "Applying edge detection to the preprocessed image to highlight the edges."
   ]
  },
  {
   "cell_type": "code",
   "execution_count": 16,
   "id": "1ee2cd3f-e55d-41c5-81ed-316efe033339",
   "metadata": {},
   "outputs": [],
   "source": [
    "def capture_screen():\n",
    "    screenshot = driver.get_screenshot_as_png()\n",
    "    image = np.frombuffer(screenshot, dtype='uint8')\n",
    "    image = cv2.imdecode(image, cv2.IMREAD_COLOR)\n",
    "    return image\n",
    "\n",
    "def preprocess_image(image):\n",
    "    gray = cv2.cvtColor(image, cv2.COLOR_BGR2GRAY)\n",
    "    resized = cv2.resize(gray, (84, 84))\n",
    "    normalized = resized / 255.0\n",
    "    normalized = (normalized * 255).astype(np.uint8)\n",
    "    return normalized\n",
    "# Resize the image of game so that i will be easy to make decision easy.\n",
    "def interpret_game_state(image):\n",
    "    edges = cv2.Canny(image, threshold1=100, threshold2=200)\n",
    "    return edges\n",
    "    "
   ]
  },
  {
   "cell_type": "markdown",
   "id": "e98db3af-7abf-4ff0-9f29-47f342e16c13",
   "metadata": {},
   "source": [
    "LOGIC FOR THE GAME. "
   ]
  },
  {
   "cell_type": "markdown",
   "id": "c855a718-fede-4c84-96a2-c4dfa51854a7",
   "metadata": {},
   "source": [
    "IT MAY BE ANY GAME AND IT'S LOGIC"
   ]
  },
  {
   "cell_type": "code",
   "execution_count": 17,
   "id": "9ac3078b-b373-48a7-9084-fee00f585a1e",
   "metadata": {},
   "outputs": [],
   "source": [
    "def make_decision(game_state):\n",
    "    if np.sum(game_state[:, :42]) > np.sum(game_state[:, 42:]):\n",
    "        return 'move_right'\n",
    "    else:\n",
    "        return 'move_left'\n",
    "\n",
    "def perform_action(action):\n",
    "    body = driver.find_element(By.TAG_NAME, 'body')\n",
    "    if action == 'move_right':\n",
    "        body.send_keys(Keys.ARROW_RIGHT)\n",
    "    elif action == 'move_left':\n",
    "        body.send_keys(Keys.ARROW_LEFT)"
   ]
  },
  {
   "cell_type": "markdown",
   "id": "e1b7f25b-0b78-4f6a-8b12-589b5ad36aca",
   "metadata": {},
   "source": [
    "MAIN LOOP"
   ]
  },
  {
   "cell_type": "code",
   "execution_count": 18,
   "id": "28dacfbd-0084-4f5e-ab43-364580c52056",
   "metadata": {},
   "outputs": [],
   "source": [
    "num_iterations = 100  # Set the number of iterations\n",
    "for _ in range(num_iterations):\n",
    "    screen = capture_screen()\n",
    "    preprocessed_image = preprocess_image(screen)\n",
    "    game_state = interpret_game_state(preprocessed_image)\n",
    "    action = make_decision(game_state)\n",
    "    perform_action(action)\n",
    "    time.sleep(0.1)  # Reduce the delay if necessary\n",
    "\n",
    "# Close the browser after completing the iterations\n",
    "driver.quit()"
   ]
  },
  {
   "cell_type": "code",
   "execution_count": null,
   "id": "24db39ee-cabf-419b-af43-e8d83c75eb2b",
   "metadata": {},
   "outputs": [],
   "source": []
  }
 ],
 "metadata": {
  "kernelspec": {
   "display_name": "Python 3 (ipykernel)",
   "language": "python",
   "name": "python3"
  },
  "language_info": {
   "codemirror_mode": {
    "name": "ipython",
    "version": 3
   },
   "file_extension": ".py",
   "mimetype": "text/x-python",
   "name": "python",
   "nbconvert_exporter": "python",
   "pygments_lexer": "ipython3",
   "version": "3.12.4"
  }
 },
 "nbformat": 4,
 "nbformat_minor": 5
}
